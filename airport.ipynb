{
  "nbformat": 4,
  "nbformat_minor": 0,
  "metadata": {
    "colab": {
      "name": "airport.ipynb",
      "provenance": [],
      "authorship_tag": "ABX9TyNOAsp8PoVYzRcY9xijlWBE",
      "include_colab_link": true
    },
    "kernelspec": {
      "name": "python3",
      "display_name": "Python 3"
    }
  },
  "cells": [
    {
      "cell_type": "markdown",
      "metadata": {
        "id": "view-in-github",
        "colab_type": "text"
      },
      "source": [
        "<a href=\"https://colab.research.google.com/github/siddharthbharthulwar/ML-Airport-Ops/blob/master/airport.ipynb\" target=\"_parent\"><img src=\"https://colab.research.google.com/assets/colab-badge.svg\" alt=\"Open In Colab\"/></a>"
      ]
    },
    {
      "cell_type": "code",
      "metadata": {
        "id": "s1xQJPlYbMai",
        "colab_type": "code",
        "outputId": "94d65015-d507-4645-ba38-1d0c6ae96c86",
        "colab": {
          "base_uri": "https://localhost:8080/",
          "height": 240
        }
      },
      "source": [
        "import pandas as pd\n",
        "import matplotlib.pyplot as plt\n",
        "\n",
        "df = pd.read_csv('/content/states_2020-05-18-10.csv')\n",
        "\n",
        "df.head()"
      ],
      "execution_count": 1,
      "outputs": [
        {
          "output_type": "stream",
          "text": [
            "/usr/local/lib/python3.6/dist-packages/IPython/core/interactiveshell.py:2718: DtypeWarning: Columns (8,9,10) have mixed types.Specify dtype option on import or set low_memory=False.\n",
            "  interactivity=interactivity, compiler=compiler, result=result)\n"
          ],
          "name": "stderr"
        },
        {
          "output_type": "execute_result",
          "data": {
            "text/html": [
              "<div>\n",
              "<style scoped>\n",
              "    .dataframe tbody tr th:only-of-type {\n",
              "        vertical-align: middle;\n",
              "    }\n",
              "\n",
              "    .dataframe tbody tr th {\n",
              "        vertical-align: top;\n",
              "    }\n",
              "\n",
              "    .dataframe thead th {\n",
              "        text-align: right;\n",
              "    }\n",
              "</style>\n",
              "<table border=\"1\" class=\"dataframe\">\n",
              "  <thead>\n",
              "    <tr style=\"text-align: right;\">\n",
              "      <th></th>\n",
              "      <th>time</th>\n",
              "      <th>icao24</th>\n",
              "      <th>lat</th>\n",
              "      <th>lon</th>\n",
              "      <th>velocity</th>\n",
              "      <th>heading</th>\n",
              "      <th>vertrate</th>\n",
              "      <th>callsign</th>\n",
              "      <th>onground</th>\n",
              "      <th>alert</th>\n",
              "      <th>spi</th>\n",
              "      <th>squawk</th>\n",
              "      <th>baroaltitude</th>\n",
              "      <th>geoaltitude</th>\n",
              "      <th>lastposupdate</th>\n",
              "      <th>lastcontact</th>\n",
              "    </tr>\n",
              "  </thead>\n",
              "  <tbody>\n",
              "    <tr>\n",
              "      <th>0</th>\n",
              "      <td>1589796000</td>\n",
              "      <td>3cd05d</td>\n",
              "      <td>52.605698</td>\n",
              "      <td>7.923355</td>\n",
              "      <td>187.935483</td>\n",
              "      <td>261.182293</td>\n",
              "      <td>1.30048</td>\n",
              "      <td>GFD7A</td>\n",
              "      <td>False</td>\n",
              "      <td>False</td>\n",
              "      <td>False</td>\n",
              "      <td>1726.0</td>\n",
              "      <td>5494.02</td>\n",
              "      <td>5699.76</td>\n",
              "      <td>1.589796e+09</td>\n",
              "      <td>1.589796e+09</td>\n",
              "    </tr>\n",
              "    <tr>\n",
              "      <th>1</th>\n",
              "      <td>1589796000</td>\n",
              "      <td>484731</td>\n",
              "      <td>NaN</td>\n",
              "      <td>NaN</td>\n",
              "      <td>NaN</td>\n",
              "      <td>NaN</td>\n",
              "      <td>NaN</td>\n",
              "      <td>PHSKF</td>\n",
              "      <td>False</td>\n",
              "      <td>False</td>\n",
              "      <td>False</td>\n",
              "      <td>7000.0</td>\n",
              "      <td>281.94</td>\n",
              "      <td>NaN</td>\n",
              "      <td>NaN</td>\n",
              "      <td>1.589796e+09</td>\n",
              "    </tr>\n",
              "    <tr>\n",
              "      <th>2</th>\n",
              "      <td>1589796000</td>\n",
              "      <td>780da8</td>\n",
              "      <td>52.118396</td>\n",
              "      <td>5.785950</td>\n",
              "      <td>218.992472</td>\n",
              "      <td>81.489200</td>\n",
              "      <td>9.75360</td>\n",
              "      <td>CSN496</td>\n",
              "      <td>False</td>\n",
              "      <td>False</td>\n",
              "      <td>False</td>\n",
              "      <td>3135.0</td>\n",
              "      <td>5212.08</td>\n",
              "      <td>5402.58</td>\n",
              "      <td>1.589796e+09</td>\n",
              "      <td>1.589796e+09</td>\n",
              "    </tr>\n",
              "    <tr>\n",
              "      <th>3</th>\n",
              "      <td>1589796000</td>\n",
              "      <td>a97655</td>\n",
              "      <td>51.576574</td>\n",
              "      <td>1.353226</td>\n",
              "      <td>231.118798</td>\n",
              "      <td>275.748663</td>\n",
              "      <td>-0.32512</td>\n",
              "      <td>DAL3343</td>\n",
              "      <td>False</td>\n",
              "      <td>False</td>\n",
              "      <td>False</td>\n",
              "      <td>2573.0</td>\n",
              "      <td>10972.80</td>\n",
              "      <td>11193.78</td>\n",
              "      <td>1.589796e+09</td>\n",
              "      <td>1.589796e+09</td>\n",
              "    </tr>\n",
              "    <tr>\n",
              "      <th>4</th>\n",
              "      <td>1589796000</td>\n",
              "      <td>3d37f9</td>\n",
              "      <td>NaN</td>\n",
              "      <td>NaN</td>\n",
              "      <td>NaN</td>\n",
              "      <td>NaN</td>\n",
              "      <td>NaN</td>\n",
              "      <td>DETLH</td>\n",
              "      <td>False</td>\n",
              "      <td>False</td>\n",
              "      <td>False</td>\n",
              "      <td>4450.0</td>\n",
              "      <td>914.40</td>\n",
              "      <td>NaN</td>\n",
              "      <td>NaN</td>\n",
              "      <td>1.589796e+09</td>\n",
              "    </tr>\n",
              "  </tbody>\n",
              "</table>\n",
              "</div>"
            ],
            "text/plain": [
              "         time  icao24        lat  ...  geoaltitude  lastposupdate   lastcontact\n",
              "0  1589796000  3cd05d  52.605698  ...      5699.76   1.589796e+09  1.589796e+09\n",
              "1  1589796000  484731        NaN  ...          NaN            NaN  1.589796e+09\n",
              "2  1589796000  780da8  52.118396  ...      5402.58   1.589796e+09  1.589796e+09\n",
              "3  1589796000  a97655  51.576574  ...     11193.78   1.589796e+09  1.589796e+09\n",
              "4  1589796000  3d37f9        NaN  ...          NaN            NaN  1.589796e+09\n",
              "\n",
              "[5 rows x 16 columns]"
            ]
          },
          "metadata": {
            "tags": []
          },
          "execution_count": 1
        }
      ]
    },
    {
      "cell_type": "code",
      "metadata": {
        "id": "cQmXB2CArgL9",
        "colab_type": "code",
        "colab": {
          "base_uri": "https://localhost:8080/",
          "height": 269
        },
        "outputId": "fcbe7347-83fb-4c53-c026-71eda317afab"
      },
      "source": [
        "lats = df['lat'].tolist()\n",
        "lons = df['lon'].tolist()\n",
        "\n",
        "times = df['time'].tolist()\n",
        "\n",
        "\n",
        "\n",
        "plt.scatter(lons, lats)\n",
        "plt.xlim(-73, -74)\n",
        "plt.ylim(40, 41)\n",
        "plt.show()"
      ],
      "execution_count": 6,
      "outputs": [
        {
          "output_type": "display_data",
          "data": {
            "image/png": "[encoded data removed]",
            "text/plain": [
              "<Figure size 432x288 with 1 Axes>"
            ]
          },
          "metadata": {
            "tags": [],
            "needs_background": "light"
          }
        }
      ]
    }
  ]
}